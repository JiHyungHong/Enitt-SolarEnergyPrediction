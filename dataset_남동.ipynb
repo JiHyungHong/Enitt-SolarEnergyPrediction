{
 "cells": [
  {
   "cell_type": "markdown",
   "metadata": {},
   "source": [
    "- 기후데이터 : 평균상대습도, 최고기온, 최저기온, 일강수량, 평균풍속, 평균 전운량, 가조시간, 합계일사량\n",
    "- 한국남동발전 - 영동에코발전본부 : 강원도 강릉시 강동면 염전길 99 \n",
    "    - 시설용량325 MW"
   ]
  },
  {
   "cell_type": "code",
   "execution_count": 2,
   "metadata": {},
   "outputs": [],
   "source": [
    "import numpy as np\n",
    "import pandas as pd\n",
    "import seaborn as sns\n",
    "%matplotlib inline"
   ]
  },
  {
   "cell_type": "code",
   "execution_count": 3,
   "metadata": {},
   "outputs": [],
   "source": [
    "# Windows 한글\n",
    "from matplotlib import font_manager, rc\n",
    "font_name = font_manager.FontProperties(fname=\"c:/Windows/Fonts/malgun.ttf\").get_name()\n",
    "rc('font', family=font_name)"
   ]
  },
  {
   "cell_type": "code",
   "execution_count": 4,
   "metadata": {},
   "outputs": [],
   "source": [
    "from warnings import filterwarnings\n",
    "filterwarnings('ignore')"
   ]
  },
  {
   "cell_type": "code",
   "execution_count": 5,
   "metadata": {},
   "outputs": [],
   "source": [
    "power1 = pd.read_csv(\"./DATA/한국남동발전㈜_태양광 발전 시간대별 발전량(영동)_20200630.csv\", encoding='euc-kr')\n",
    "power2 = pd.read_csv(\"./DATA/한국남동발전㈜_태양광 발전 시간대별 발전량(영동)_20191231.csv\", encoding='euc-kr')\n",
    "power3 = pd.read_csv(\"./DATA/한국남동발전㈜_태양광 발전 시간대별 발전량(영동)_20181231.csv\", encoding='euc-kr')\n",
    "power4 = pd.read_csv(\"./DATA/한국남동발전㈜_태양광 발전 시간대별 발전량(영동)_20171231.csv\", encoding='euc-kr')\n",
    "power = pd.concat([power1, power2,power3,power4])\n",
    "weather = pd.read_csv(\"./DATA/날씨_강릉.csv\", encoding='euc-kr')"
   ]
  },
  {
   "cell_type": "code",
   "execution_count": 6,
   "metadata": {},
   "outputs": [],
   "source": [
    "weather = weather.iloc[:,2:]"
   ]
  },
  {
   "cell_type": "code",
   "execution_count": 7,
   "metadata": {},
   "outputs": [
    {
     "data": {
      "text/plain": [
       "array([1], dtype=int64)"
      ]
     },
     "execution_count": 7,
     "metadata": {},
     "output_type": "execute_result"
    }
   ],
   "source": [
    "power['호기'].unique()"
   ]
  },
  {
   "cell_type": "code",
   "execution_count": 8,
   "metadata": {},
   "outputs": [],
   "source": [
    "power = power.drop(['호기', '구분'], axis=1) \n",
    "power['power'] = power.iloc[:,1:].sum(axis=1)\n",
    "power = power[['년월일', 'power']]"
   ]
  },
  {
   "cell_type": "code",
   "execution_count": 9,
   "metadata": {},
   "outputs": [
    {
     "data": {
      "text/html": [
       "<div>\n",
       "<style scoped>\n",
       "    .dataframe tbody tr th:only-of-type {\n",
       "        vertical-align: middle;\n",
       "    }\n",
       "\n",
       "    .dataframe tbody tr th {\n",
       "        vertical-align: top;\n",
       "    }\n",
       "\n",
       "    .dataframe thead th {\n",
       "        text-align: right;\n",
       "    }\n",
       "</style>\n",
       "<table border=\"1\" class=\"dataframe\">\n",
       "  <thead>\n",
       "    <tr style=\"text-align: right;\">\n",
       "      <th></th>\n",
       "      <th>일시</th>\n",
       "      <th>최저기온(°C)</th>\n",
       "      <th>최고기온(°C)</th>\n",
       "      <th>일강수량(mm)</th>\n",
       "      <th>평균 풍속(m/s)</th>\n",
       "      <th>평균 상대습도(%)</th>\n",
       "      <th>가조시간(hr)</th>\n",
       "      <th>합계 일사량(MJ/m2)</th>\n",
       "      <th>평균 전운량(1/10)</th>\n",
       "      <th>power</th>\n",
       "    </tr>\n",
       "  </thead>\n",
       "  <tbody>\n",
       "    <tr>\n",
       "      <th>0</th>\n",
       "      <td>2017-01-01</td>\n",
       "      <td>4.0</td>\n",
       "      <td>9.2</td>\n",
       "      <td>NaN</td>\n",
       "      <td>4.4</td>\n",
       "      <td>39.4</td>\n",
       "      <td>9.6</td>\n",
       "      <td>8.81</td>\n",
       "      <td>NaN</td>\n",
       "      <td>3177.792</td>\n",
       "    </tr>\n",
       "    <tr>\n",
       "      <th>1</th>\n",
       "      <td>2017-01-02</td>\n",
       "      <td>6.2</td>\n",
       "      <td>11.8</td>\n",
       "      <td>NaN</td>\n",
       "      <td>4.1</td>\n",
       "      <td>44.6</td>\n",
       "      <td>9.6</td>\n",
       "      <td>9.91</td>\n",
       "      <td>NaN</td>\n",
       "      <td>3618.240</td>\n",
       "    </tr>\n",
       "    <tr>\n",
       "      <th>2</th>\n",
       "      <td>2017-01-03</td>\n",
       "      <td>3.0</td>\n",
       "      <td>12.3</td>\n",
       "      <td>NaN</td>\n",
       "      <td>3.1</td>\n",
       "      <td>32.1</td>\n",
       "      <td>9.6</td>\n",
       "      <td>10.73</td>\n",
       "      <td>NaN</td>\n",
       "      <td>3918.432</td>\n",
       "    </tr>\n",
       "    <tr>\n",
       "      <th>3</th>\n",
       "      <td>2017-01-04</td>\n",
       "      <td>2.2</td>\n",
       "      <td>10.4</td>\n",
       "      <td>NaN</td>\n",
       "      <td>2.5</td>\n",
       "      <td>42.8</td>\n",
       "      <td>9.7</td>\n",
       "      <td>10.44</td>\n",
       "      <td>NaN</td>\n",
       "      <td>3805.824</td>\n",
       "    </tr>\n",
       "    <tr>\n",
       "      <th>4</th>\n",
       "      <td>2017-01-05</td>\n",
       "      <td>1.4</td>\n",
       "      <td>3.7</td>\n",
       "      <td>6.0</td>\n",
       "      <td>1.6</td>\n",
       "      <td>81.3</td>\n",
       "      <td>9.7</td>\n",
       "      <td>1.24</td>\n",
       "      <td>NaN</td>\n",
       "      <td>184.608</td>\n",
       "    </tr>\n",
       "    <tr>\n",
       "      <th>...</th>\n",
       "      <td>...</td>\n",
       "      <td>...</td>\n",
       "      <td>...</td>\n",
       "      <td>...</td>\n",
       "      <td>...</td>\n",
       "      <td>...</td>\n",
       "      <td>...</td>\n",
       "      <td>...</td>\n",
       "      <td>...</td>\n",
       "      <td>...</td>\n",
       "    </tr>\n",
       "    <tr>\n",
       "      <th>1272</th>\n",
       "      <td>2020-06-26</td>\n",
       "      <td>19.4</td>\n",
       "      <td>27.8</td>\n",
       "      <td>NaN</td>\n",
       "      <td>3.3</td>\n",
       "      <td>65.8</td>\n",
       "      <td>14.8</td>\n",
       "      <td>22.80</td>\n",
       "      <td>6.5</td>\n",
       "      <td>2889.312</td>\n",
       "    </tr>\n",
       "    <tr>\n",
       "      <th>1273</th>\n",
       "      <td>2020-06-27</td>\n",
       "      <td>23.0</td>\n",
       "      <td>30.6</td>\n",
       "      <td>0.1</td>\n",
       "      <td>1.7</td>\n",
       "      <td>61.4</td>\n",
       "      <td>14.8</td>\n",
       "      <td>16.75</td>\n",
       "      <td>6.6</td>\n",
       "      <td>2451.840</td>\n",
       "    </tr>\n",
       "    <tr>\n",
       "      <th>1274</th>\n",
       "      <td>2020-06-28</td>\n",
       "      <td>20.4</td>\n",
       "      <td>25.9</td>\n",
       "      <td>NaN</td>\n",
       "      <td>1.7</td>\n",
       "      <td>78.5</td>\n",
       "      <td>14.8</td>\n",
       "      <td>25.41</td>\n",
       "      <td>4.1</td>\n",
       "      <td>3044.832</td>\n",
       "    </tr>\n",
       "    <tr>\n",
       "      <th>1275</th>\n",
       "      <td>2020-06-29</td>\n",
       "      <td>19.6</td>\n",
       "      <td>25.1</td>\n",
       "      <td>2.2</td>\n",
       "      <td>1.8</td>\n",
       "      <td>85.4</td>\n",
       "      <td>14.8</td>\n",
       "      <td>9.26</td>\n",
       "      <td>8.6</td>\n",
       "      <td>1447.392</td>\n",
       "    </tr>\n",
       "    <tr>\n",
       "      <th>1276</th>\n",
       "      <td>2020-06-30</td>\n",
       "      <td>16.8</td>\n",
       "      <td>21.1</td>\n",
       "      <td>250.0</td>\n",
       "      <td>3.9</td>\n",
       "      <td>97.8</td>\n",
       "      <td>14.8</td>\n",
       "      <td>2.41</td>\n",
       "      <td>9.9</td>\n",
       "      <td>325.824</td>\n",
       "    </tr>\n",
       "  </tbody>\n",
       "</table>\n",
       "<p>1277 rows × 10 columns</p>\n",
       "</div>"
      ],
      "text/plain": [
       "              일시  최저기온(°C)  최고기온(°C)  일강수량(mm)  평균 풍속(m/s)  평균 상대습도(%)  \\\n",
       "0     2017-01-01       4.0       9.2       NaN         4.4        39.4   \n",
       "1     2017-01-02       6.2      11.8       NaN         4.1        44.6   \n",
       "2     2017-01-03       3.0      12.3       NaN         3.1        32.1   \n",
       "3     2017-01-04       2.2      10.4       NaN         2.5        42.8   \n",
       "4     2017-01-05       1.4       3.7       6.0         1.6        81.3   \n",
       "...          ...       ...       ...       ...         ...         ...   \n",
       "1272  2020-06-26      19.4      27.8       NaN         3.3        65.8   \n",
       "1273  2020-06-27      23.0      30.6       0.1         1.7        61.4   \n",
       "1274  2020-06-28      20.4      25.9       NaN         1.7        78.5   \n",
       "1275  2020-06-29      19.6      25.1       2.2         1.8        85.4   \n",
       "1276  2020-06-30      16.8      21.1     250.0         3.9        97.8   \n",
       "\n",
       "      가조시간(hr)  합계 일사량(MJ/m2)  평균 전운량(1/10)     power  \n",
       "0          9.6           8.81           NaN  3177.792  \n",
       "1          9.6           9.91           NaN  3618.240  \n",
       "2          9.6          10.73           NaN  3918.432  \n",
       "3          9.7          10.44           NaN  3805.824  \n",
       "4          9.7           1.24           NaN   184.608  \n",
       "...        ...            ...           ...       ...  \n",
       "1272      14.8          22.80           6.5  2889.312  \n",
       "1273      14.8          16.75           6.6  2451.840  \n",
       "1274      14.8          25.41           4.1  3044.832  \n",
       "1275      14.8           9.26           8.6  1447.392  \n",
       "1276      14.8           2.41           9.9   325.824  \n",
       "\n",
       "[1277 rows x 10 columns]"
      ]
     },
     "execution_count": 9,
     "metadata": {},
     "output_type": "execute_result"
    }
   ],
   "source": [
    "df = pd.merge(weather, power, left_on='일시', right_on='년월일', how='inner')\n",
    "df.drop(['년월일'], axis=1, inplace=True) \n",
    "df"
   ]
  },
  {
   "cell_type": "code",
   "execution_count": 10,
   "metadata": {},
   "outputs": [],
   "source": [
    "# df.to_csv('한국남동발전_영동.csv', index=False)\n",
    "# pd.read_csv('한국남동발전_영동.csv')"
   ]
  },
  {
   "cell_type": "code",
   "execution_count": 12,
   "metadata": {},
   "outputs": [
    {
     "data": {
      "text/plain": [
       "일시                 0\n",
       "최저기온(°C)           0\n",
       "최고기온(°C)           0\n",
       "일강수량(mm)         873\n",
       "평균 풍속(m/s)         0\n",
       "평균 상대습도(%)         0\n",
       "가조시간(hr)           0\n",
       "합계 일사량(MJ/m2)      0\n",
       "평균 전운량(1/10)     579\n",
       "power              0\n",
       "dtype: int64"
      ]
     },
     "execution_count": 12,
     "metadata": {},
     "output_type": "execute_result"
    }
   ],
   "source": [
    "df.isnull().sum()"
   ]
  },
  {
   "cell_type": "code",
   "execution_count": 13,
   "metadata": {},
   "outputs": [],
   "source": [
    "# 결측치 제거\n",
    "df.dropna(axis=0, how='any', inplace=True)"
   ]
  },
  {
   "cell_type": "code",
   "execution_count": 14,
   "metadata": {},
   "outputs": [
    {
     "data": {
      "text/plain": [
       "<seaborn.axisgrid.PairGrid at 0x1e132f06348>"
      ]
     },
     "execution_count": 14,
     "metadata": {},
     "output_type": "execute_result"
    },
    {
     "data": {
      "image/png": "[encoded data removed]",
      "text/plain": [
       "<Figure size 1440x180 with 8 Axes>"
      ]
     },
     "metadata": {
      "needs_background": "light"
     },
     "output_type": "display_data"
    }
   ],
   "source": [
    "sns.pairplot(df, x_vars=['최저기온(°C)', '최고기온(°C)', '일강수량(mm)', '평균 풍속(m/s)', '평균 상대습도(%)',\n",
    "       '가조시간(hr)', '합계 일사량(MJ/m2)', '평균 전운량(1/10)'],y_vars=['power'])"
   ]
  },
  {
   "cell_type": "markdown",
   "metadata": {},
   "source": [
    "- 평균 전운량 음의 상관관계, 합계 일사량 양의 상관관계"
   ]
  },
  {
   "cell_type": "code",
   "execution_count": 15,
   "metadata": {},
   "outputs": [],
   "source": [
    "from statsmodels.formula.api import ols"
   ]
  },
  {
   "cell_type": "code",
   "execution_count": 16,
   "metadata": {},
   "outputs": [],
   "source": [
    "X = df.drop(['일시', 'power'], axis='columns')\n",
    "y = df['power']\n",
    "res = ols('y ~ X', data=df).fit()"
   ]
  },
  {
   "cell_type": "code",
   "execution_count": 17,
   "metadata": {},
   "outputs": [
    {
     "data": {
      "text/html": [
       "<table class=\"simpletable\">\n",
       "<caption>OLS Regression Results</caption>\n",
       "<tr>\n",
       "  <th>Dep. Variable:</th>            <td>y</td>        <th>  R-squared:         </th> <td>   0.843</td>\n",
       "</tr>\n",
       "<tr>\n",
       "  <th>Model:</th>                   <td>OLS</td>       <th>  Adj. R-squared:    </th> <td>   0.837</td>\n",
       "</tr>\n",
       "<tr>\n",
       "  <th>Method:</th>             <td>Least Squares</td>  <th>  F-statistic:       </th> <td>   148.3</td>\n",
       "</tr>\n",
       "<tr>\n",
       "  <th>Date:</th>             <td>Fri, 06 Nov 2020</td> <th>  Prob (F-statistic):</th> <td>2.04e-84</td>\n",
       "</tr>\n",
       "<tr>\n",
       "  <th>Time:</th>                 <td>18:42:56</td>     <th>  Log-Likelihood:    </th> <td> -1828.3</td>\n",
       "</tr>\n",
       "<tr>\n",
       "  <th>No. Observations:</th>      <td>   230</td>      <th>  AIC:               </th> <td>   3675.</td>\n",
       "</tr>\n",
       "<tr>\n",
       "  <th>Df Residuals:</th>          <td>   221</td>      <th>  BIC:               </th> <td>   3706.</td>\n",
       "</tr>\n",
       "<tr>\n",
       "  <th>Df Model:</th>              <td>     8</td>      <th>                     </th>     <td> </td>   \n",
       "</tr>\n",
       "<tr>\n",
       "  <th>Covariance Type:</th>      <td>nonrobust</td>    <th>                     </th>     <td> </td>   \n",
       "</tr>\n",
       "</table>\n",
       "<table class=\"simpletable\">\n",
       "<tr>\n",
       "      <td></td>         <th>coef</th>     <th>std err</th>      <th>t</th>      <th>P>|t|</th>  <th>[0.025</th>    <th>0.975]</th>  \n",
       "</tr>\n",
       "<tr>\n",
       "  <th>Intercept</th> <td> 2384.3884</td> <td>  671.440</td> <td>    3.551</td> <td> 0.000</td> <td> 1061.144</td> <td> 3707.632</td>\n",
       "</tr>\n",
       "<tr>\n",
       "  <th>X[0]</th>      <td>    4.1255</td> <td>   23.634</td> <td>    0.175</td> <td> 0.862</td> <td>  -42.451</td> <td>   50.702</td>\n",
       "</tr>\n",
       "<tr>\n",
       "  <th>X[1]</th>      <td>    0.2412</td> <td>   23.548</td> <td>    0.010</td> <td> 0.992</td> <td>  -46.165</td> <td>   46.648</td>\n",
       "</tr>\n",
       "<tr>\n",
       "  <th>X[2]</th>      <td>   -1.4600</td> <td>    1.715</td> <td>   -0.851</td> <td> 0.396</td> <td>   -4.840</td> <td>    1.920</td>\n",
       "</tr>\n",
       "<tr>\n",
       "  <th>X[3]</th>      <td>   37.0610</td> <td>   81.209</td> <td>    0.456</td> <td> 0.649</td> <td> -122.983</td> <td>  197.105</td>\n",
       "</tr>\n",
       "<tr>\n",
       "  <th>X[4]</th>      <td>   -0.8995</td> <td>    5.742</td> <td>   -0.157</td> <td> 0.876</td> <td>  -12.215</td> <td>   10.416</td>\n",
       "</tr>\n",
       "<tr>\n",
       "  <th>X[5]</th>      <td>  -56.6241</td> <td>   47.521</td> <td>   -1.192</td> <td> 0.235</td> <td> -150.277</td> <td>   37.028</td>\n",
       "</tr>\n",
       "<tr>\n",
       "  <th>X[6]</th>      <td>  198.7544</td> <td>   13.464</td> <td>   14.762</td> <td> 0.000</td> <td>  172.220</td> <td>  225.289</td>\n",
       "</tr>\n",
       "<tr>\n",
       "  <th>X[7]</th>      <td> -182.4008</td> <td>   34.931</td> <td>   -5.222</td> <td> 0.000</td> <td> -251.242</td> <td> -113.560</td>\n",
       "</tr>\n",
       "</table>\n",
       "<table class=\"simpletable\">\n",
       "<tr>\n",
       "  <th>Omnibus:</th>       <td>21.605</td> <th>  Durbin-Watson:     </th> <td>   1.657</td>\n",
       "</tr>\n",
       "<tr>\n",
       "  <th>Prob(Omnibus):</th> <td> 0.000</td> <th>  Jarque-Bera (JB):  </th> <td>  58.376</td>\n",
       "</tr>\n",
       "<tr>\n",
       "  <th>Skew:</th>          <td> 0.350</td> <th>  Prob(JB):          </th> <td>2.11e-13</td>\n",
       "</tr>\n",
       "<tr>\n",
       "  <th>Kurtosis:</th>      <td> 5.367</td> <th>  Cond. No.          </th> <td>1.21e+03</td>\n",
       "</tr>\n",
       "</table><br/><br/>Warnings:<br/>[1] Standard Errors assume that the covariance matrix of the errors is correctly specified.<br/>[2] The condition number is large, 1.21e+03. This might indicate that there are<br/>strong multicollinearity or other numerical problems."
      ],
      "text/plain": [
       "<class 'statsmodels.iolib.summary.Summary'>\n",
       "\"\"\"\n",
       "                            OLS Regression Results                            \n",
       "==============================================================================\n",
       "Dep. Variable:                      y   R-squared:                       0.843\n",
       "Model:                            OLS   Adj. R-squared:                  0.837\n",
       "Method:                 Least Squares   F-statistic:                     148.3\n",
       "Date:                Fri, 06 Nov 2020   Prob (F-statistic):           2.04e-84\n",
       "Time:                        18:42:56   Log-Likelihood:                -1828.3\n",
       "No. Observations:                 230   AIC:                             3675.\n",
       "Df Residuals:                     221   BIC:                             3706.\n",
       "Df Model:                           8                                         \n",
       "Covariance Type:            nonrobust                                         \n",
       "==============================================================================\n",
       "                 coef    std err          t      P>|t|      [0.025      0.975]\n",
       "------------------------------------------------------------------------------\n",
       "Intercept   2384.3884    671.440      3.551      0.000    1061.144    3707.632\n",
       "X[0]           4.1255     23.634      0.175      0.862     -42.451      50.702\n",
       "X[1]           0.2412     23.548      0.010      0.992     -46.165      46.648\n",
       "X[2]          -1.4600      1.715     -0.851      0.396      -4.840       1.920\n",
       "X[3]          37.0610     81.209      0.456      0.649    -122.983     197.105\n",
       "X[4]          -0.8995      5.742     -0.157      0.876     -12.215      10.416\n",
       "X[5]         -56.6241     47.521     -1.192      0.235    -150.277      37.028\n",
       "X[6]         198.7544     13.464     14.762      0.000     172.220     225.289\n",
       "X[7]        -182.4008     34.931     -5.222      0.000    -251.242    -113.560\n",
       "==============================================================================\n",
       "Omnibus:                       21.605   Durbin-Watson:                   1.657\n",
       "Prob(Omnibus):                  0.000   Jarque-Bera (JB):               58.376\n",
       "Skew:                           0.350   Prob(JB):                     2.11e-13\n",
       "Kurtosis:                       5.367   Cond. No.                     1.21e+03\n",
       "==============================================================================\n",
       "\n",
       "Warnings:\n",
       "[1] Standard Errors assume that the covariance matrix of the errors is correctly specified.\n",
       "[2] The condition number is large, 1.21e+03. This might indicate that there are\n",
       "strong multicollinearity or other numerical problems.\n",
       "\"\"\""
      ]
     },
     "execution_count": 17,
     "metadata": {},
     "output_type": "execute_result"
    }
   ],
   "source": [
    "res.summary()"
   ]
  },
  {
   "cell_type": "markdown",
   "metadata": {},
   "source": [
    "- 수정된 결정계수 확인 -> 모형의 적합도 확인 \n",
    "    - Adj. R-squared: 0.837, Prob (F-statistic): 2.04e-84\n",
    "    - 절편 : t값 3.551, P>|t|값 0.000\n",
    "- 회귀계수확인 \n",
    "    - p-value 0.05 이하 : 합계 일사량, 평균 전운량\n",
    "- 다중공선성 확인"
   ]
  },
  {
   "cell_type": "code",
   "execution_count": 18,
   "metadata": {},
   "outputs": [],
   "source": [
    "from statsmodels.stats.outliers_influence import variance_inflation_factor"
   ]
  },
  {
   "cell_type": "code",
   "execution_count": 19,
   "metadata": {},
   "outputs": [
    {
     "data": {
      "text/html": [
       "<div>\n",
       "<style scoped>\n",
       "    .dataframe tbody tr th:only-of-type {\n",
       "        vertical-align: middle;\n",
       "    }\n",
       "\n",
       "    .dataframe tbody tr th {\n",
       "        vertical-align: top;\n",
       "    }\n",
       "\n",
       "    .dataframe thead th {\n",
       "        text-align: right;\n",
       "    }\n",
       "</style>\n",
       "<table border=\"1\" class=\"dataframe\">\n",
       "  <thead>\n",
       "    <tr style=\"text-align: right;\">\n",
       "      <th></th>\n",
       "      <th>VIF Factor</th>\n",
       "      <th>features</th>\n",
       "    </tr>\n",
       "  </thead>\n",
       "  <tbody>\n",
       "    <tr>\n",
       "      <th>0</th>\n",
       "      <td>43.0</td>\n",
       "      <td>최저기온(°C)</td>\n",
       "    </tr>\n",
       "    <tr>\n",
       "      <th>1</th>\n",
       "      <td>95.3</td>\n",
       "      <td>최고기온(°C)</td>\n",
       "    </tr>\n",
       "    <tr>\n",
       "      <th>2</th>\n",
       "      <td>1.7</td>\n",
       "      <td>일강수량(mm)</td>\n",
       "    </tr>\n",
       "    <tr>\n",
       "      <th>3</th>\n",
       "      <td>10.8</td>\n",
       "      <td>평균 풍속(m/s)</td>\n",
       "    </tr>\n",
       "    <tr>\n",
       "      <th>4</th>\n",
       "      <td>55.4</td>\n",
       "      <td>평균 상대습도(%)</td>\n",
       "    </tr>\n",
       "    <tr>\n",
       "      <th>5</th>\n",
       "      <td>137.9</td>\n",
       "      <td>가조시간(hr)</td>\n",
       "    </tr>\n",
       "    <tr>\n",
       "      <th>6</th>\n",
       "      <td>12.7</td>\n",
       "      <td>합계 일사량(MJ/m2)</td>\n",
       "    </tr>\n",
       "    <tr>\n",
       "      <th>7</th>\n",
       "      <td>31.3</td>\n",
       "      <td>평균 전운량(1/10)</td>\n",
       "    </tr>\n",
       "  </tbody>\n",
       "</table>\n",
       "</div>"
      ],
      "text/plain": [
       "   VIF Factor       features\n",
       "0        43.0       최저기온(°C)\n",
       "1        95.3       최고기온(°C)\n",
       "2         1.7       일강수량(mm)\n",
       "3        10.8     평균 풍속(m/s)\n",
       "4        55.4     평균 상대습도(%)\n",
       "5       137.9       가조시간(hr)\n",
       "6        12.7  합계 일사량(MJ/m2)\n",
       "7        31.3   평균 전운량(1/10)"
      ]
     },
     "execution_count": 19,
     "metadata": {},
     "output_type": "execute_result"
    }
   ],
   "source": [
    "# y, X = dmatrices(\"방문빈도 ~\" + features, data=data, return_type = \"dataframe\")\n",
    "vif = pd.DataFrame()\n",
    "vif[\"VIF Factor\"] = [variance_inflation_factor(X.values, i) for i in range(X.shape[1])]\n",
    "vif[\"features\"] = X.columns\n",
    "vif.round(1)"
   ]
  },
  {
   "cell_type": "markdown",
   "metadata": {},
   "source": [
    "- 독립변수 VIF값이 10 이상인 값이 서로 강한 상관관계를 가진다 \n",
    "- => VIF값이 높은 컬럼 빼고 '일강수량(mm)', '평균 풍속(m/s)', '합계 일사량(MJ/m2)', '평균 전운량(1/10)' 으로만 회귀분석"
   ]
  },
  {
   "cell_type": "code",
   "execution_count": 20,
   "metadata": {},
   "outputs": [],
   "source": [
    "X = df[['일강수량(mm)', '평균 풍속(m/s)', '합계 일사량(MJ/m2)', '평균 전운량(1/10)']]\n",
    "y = df['power']\n",
    "res = ols('y ~ X', data=df).fit()"
   ]
  },
  {
   "cell_type": "code",
   "execution_count": 21,
   "metadata": {},
   "outputs": [
    {
     "data": {
      "text/html": [
       "<table class=\"simpletable\">\n",
       "<caption>OLS Regression Results</caption>\n",
       "<tr>\n",
       "  <th>Dep. Variable:</th>            <td>y</td>        <th>  R-squared:         </th> <td>   0.842</td>\n",
       "</tr>\n",
       "<tr>\n",
       "  <th>Model:</th>                   <td>OLS</td>       <th>  Adj. R-squared:    </th> <td>   0.839</td>\n",
       "</tr>\n",
       "<tr>\n",
       "  <th>Method:</th>             <td>Least Squares</td>  <th>  F-statistic:       </th> <td>   299.2</td>\n",
       "</tr>\n",
       "<tr>\n",
       "  <th>Date:</th>             <td>Fri, 06 Nov 2020</td> <th>  Prob (F-statistic):</th> <td>8.12e-89</td>\n",
       "</tr>\n",
       "<tr>\n",
       "  <th>Time:</th>                 <td>18:42:56</td>     <th>  Log-Likelihood:    </th> <td> -1829.2</td>\n",
       "</tr>\n",
       "<tr>\n",
       "  <th>No. Observations:</th>      <td>   230</td>      <th>  AIC:               </th> <td>   3668.</td>\n",
       "</tr>\n",
       "<tr>\n",
       "  <th>Df Residuals:</th>          <td>   225</td>      <th>  BIC:               </th> <td>   3686.</td>\n",
       "</tr>\n",
       "<tr>\n",
       "  <th>Df Model:</th>              <td>     4</td>      <th>                     </th>     <td> </td>   \n",
       "</tr>\n",
       "<tr>\n",
       "  <th>Covariance Type:</th>      <td>nonrobust</td>    <th>                     </th>     <td> </td>   \n",
       "</tr>\n",
       "</table>\n",
       "<table class=\"simpletable\">\n",
       "<tr>\n",
       "      <td></td>         <th>coef</th>     <th>std err</th>      <th>t</th>      <th>P>|t|</th>  <th>[0.025</th>    <th>0.975]</th>  \n",
       "</tr>\n",
       "<tr>\n",
       "  <th>Intercept</th> <td> 1855.3011</td> <td>  353.009</td> <td>    5.256</td> <td> 0.000</td> <td> 1159.674</td> <td> 2550.928</td>\n",
       "</tr>\n",
       "<tr>\n",
       "  <th>X[0]</th>      <td>   -1.9523</td> <td>    1.454</td> <td>   -1.342</td> <td> 0.181</td> <td>   -4.818</td> <td>    0.913</td>\n",
       "</tr>\n",
       "<tr>\n",
       "  <th>X[1]</th>      <td>   48.1006</td> <td>   64.383</td> <td>    0.747</td> <td> 0.456</td> <td>  -78.770</td> <td>  174.972</td>\n",
       "</tr>\n",
       "<tr>\n",
       "  <th>X[2]</th>      <td>  190.4832</td> <td>    8.484</td> <td>   22.451</td> <td> 0.000</td> <td>  173.764</td> <td>  207.202</td>\n",
       "</tr>\n",
       "<tr>\n",
       "  <th>X[3]</th>      <td> -198.4287</td> <td>   31.237</td> <td>   -6.352</td> <td> 0.000</td> <td> -259.983</td> <td> -136.874</td>\n",
       "</tr>\n",
       "</table>\n",
       "<table class=\"simpletable\">\n",
       "<tr>\n",
       "  <th>Omnibus:</th>       <td>19.446</td> <th>  Durbin-Watson:     </th> <td>   1.649</td>\n",
       "</tr>\n",
       "<tr>\n",
       "  <th>Prob(Omnibus):</th> <td> 0.000</td> <th>  Jarque-Bera (JB):  </th> <td>  52.745</td>\n",
       "</tr>\n",
       "<tr>\n",
       "  <th>Skew:</th>          <td> 0.288</td> <th>  Prob(JB):          </th> <td>3.52e-12</td>\n",
       "</tr>\n",
       "<tr>\n",
       "  <th>Kurtosis:</th>      <td> 5.274</td> <th>  Cond. No.          </th> <td>    295.</td>\n",
       "</tr>\n",
       "</table><br/><br/>Warnings:<br/>[1] Standard Errors assume that the covariance matrix of the errors is correctly specified."
      ],
      "text/plain": [
       "<class 'statsmodels.iolib.summary.Summary'>\n",
       "\"\"\"\n",
       "                            OLS Regression Results                            \n",
       "==============================================================================\n",
       "Dep. Variable:                      y   R-squared:                       0.842\n",
       "Model:                            OLS   Adj. R-squared:                  0.839\n",
       "Method:                 Least Squares   F-statistic:                     299.2\n",
       "Date:                Fri, 06 Nov 2020   Prob (F-statistic):           8.12e-89\n",
       "Time:                        18:42:56   Log-Likelihood:                -1829.2\n",
       "No. Observations:                 230   AIC:                             3668.\n",
       "Df Residuals:                     225   BIC:                             3686.\n",
       "Df Model:                           4                                         \n",
       "Covariance Type:            nonrobust                                         \n",
       "==============================================================================\n",
       "                 coef    std err          t      P>|t|      [0.025      0.975]\n",
       "------------------------------------------------------------------------------\n",
       "Intercept   1855.3011    353.009      5.256      0.000    1159.674    2550.928\n",
       "X[0]          -1.9523      1.454     -1.342      0.181      -4.818       0.913\n",
       "X[1]          48.1006     64.383      0.747      0.456     -78.770     174.972\n",
       "X[2]         190.4832      8.484     22.451      0.000     173.764     207.202\n",
       "X[3]        -198.4287     31.237     -6.352      0.000    -259.983    -136.874\n",
       "==============================================================================\n",
       "Omnibus:                       19.446   Durbin-Watson:                   1.649\n",
       "Prob(Omnibus):                  0.000   Jarque-Bera (JB):               52.745\n",
       "Skew:                           0.288   Prob(JB):                     3.52e-12\n",
       "Kurtosis:                       5.274   Cond. No.                         295.\n",
       "==============================================================================\n",
       "\n",
       "Warnings:\n",
       "[1] Standard Errors assume that the covariance matrix of the errors is correctly specified.\n",
       "\"\"\""
      ]
     },
     "execution_count": 21,
     "metadata": {},
     "output_type": "execute_result"
    }
   ],
   "source": [
    "res.summary()"
   ]
  },
  {
   "cell_type": "code",
   "execution_count": 22,
   "metadata": {},
   "outputs": [
    {
     "data": {
      "text/html": [
       "<div>\n",
       "<style scoped>\n",
       "    .dataframe tbody tr th:only-of-type {\n",
       "        vertical-align: middle;\n",
       "    }\n",
       "\n",
       "    .dataframe tbody tr th {\n",
       "        vertical-align: top;\n",
       "    }\n",
       "\n",
       "    .dataframe thead th {\n",
       "        text-align: right;\n",
       "    }\n",
       "</style>\n",
       "<table border=\"1\" class=\"dataframe\">\n",
       "  <thead>\n",
       "    <tr style=\"text-align: right;\">\n",
       "      <th></th>\n",
       "      <th>VIF Factor</th>\n",
       "      <th>features</th>\n",
       "    </tr>\n",
       "  </thead>\n",
       "  <tbody>\n",
       "    <tr>\n",
       "      <th>0</th>\n",
       "      <td>1.4</td>\n",
       "      <td>일강수량(mm)</td>\n",
       "    </tr>\n",
       "    <tr>\n",
       "      <th>1</th>\n",
       "      <td>5.6</td>\n",
       "      <td>평균 풍속(m/s)</td>\n",
       "    </tr>\n",
       "    <tr>\n",
       "      <th>2</th>\n",
       "      <td>3.3</td>\n",
       "      <td>합계 일사량(MJ/m2)</td>\n",
       "    </tr>\n",
       "    <tr>\n",
       "      <th>3</th>\n",
       "      <td>3.8</td>\n",
       "      <td>평균 전운량(1/10)</td>\n",
       "    </tr>\n",
       "  </tbody>\n",
       "</table>\n",
       "</div>"
      ],
      "text/plain": [
       "   VIF Factor       features\n",
       "0         1.4       일강수량(mm)\n",
       "1         5.6     평균 풍속(m/s)\n",
       "2         3.3  합계 일사량(MJ/m2)\n",
       "3         3.8   평균 전운량(1/10)"
      ]
     },
     "execution_count": 22,
     "metadata": {},
     "output_type": "execute_result"
    }
   ],
   "source": [
    "vif = pd.DataFrame()\n",
    "vif[\"VIF Factor\"] = [variance_inflation_factor(X.values, i) for i in range(X.shape[1])]\n",
    "vif[\"features\"] = X.columns\n",
    "vif.round(1)"
   ]
  },
  {
   "cell_type": "code",
   "execution_count": null,
   "metadata": {},
   "outputs": [],
   "source": []
  }
 ],
 "metadata": {
  "kernelspec": {
   "display_name": "Python 3",
   "language": "python",
   "name": "python3"
  },
  "language_info": {
   "codemirror_mode": {
    "name": "ipython",
    "version": 3
   },
   "file_extension": ".py",
   "mimetype": "text/x-python",
   "name": "python",
   "nbconvert_exporter": "python",
   "pygments_lexer": "ipython3",
   "version": "3.7.7"
  }
 },
 "nbformat": 4,
 "nbformat_minor": 4
}
